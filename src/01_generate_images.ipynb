{
 "cells": [
  {
   "cell_type": "markdown",
   "metadata": {},
   "source": [
    "# 01 - Generate Images "
   ]
  },
  {
   "cell_type": "markdown",
   "metadata": {},
   "source": [
    "This notebook will generate 100,000 images from Vertex AI Imagen API and save them into a Google Cloud storage bucket.\n",
    "\n",
    "\n",
    "References:\n",
    "\n",
    "* [Generate images using text prompts  |  Generative AI on Vertex AI  |  Google Cloud](https://cloud.google.com/vertex-ai/generative-ai/docs/image/generate-images)\n",
    "* [Imagen API  |  Generative AI on Vertex AI  |  Google Cloud](https://cloud.google.com/vertex-ai/generative-ai/docs/model-reference/imagen-api)\n",
    "\n"
   ]
  },
  {
   "cell_type": "markdown",
   "metadata": {},
   "source": [
    "## Pre-requisites \n",
    "\n",
    "See [README.md](README.md) for full details \n",
    "\n",
    "1. Setup Google Cloud project \n",
    "2. Create Vertex AI Workbench instance "
   ]
  },
  {
   "cell_type": "markdown",
   "metadata": {
    "vscode": {
     "languageId": "plaintext"
    }
   },
   "source": [
    "## Install required packages\n",
    "\n",
    "Run the cell below to check if required packages are installed.\n",
    "\n",
    "If any are not, they will be installed and kernel will automatically restart and show a notificaiton.\n",
    "\n",
    "If they are already installed, nothing will happen and proceed to the next step."
   ]
  },
  {
   "cell_type": "code",
   "execution_count": null,
   "metadata": {
    "tags": []
   },
   "outputs": [],
   "source": [
    "# tuples of (import name, install name)\n",
    "packages = [\n",
    "    ('google.cloud.aiplatform', 'google-cloud-aiplatform'),\n",
    "    ('PIL', 'Pillow')\n",
    "]\n",
    "\n",
    "import importlib\n",
    "install = False\n",
    "for package in packages:\n",
    "    if not importlib.util.find_spec(package[0]):\n",
    "        print(f'installing package {package[1]}')\n",
    "        install = True\n",
    "        !pip install {package[1]} -U -q --user"
   ]
  },
  {
   "cell_type": "markdown",
   "metadata": {},
   "source": [
    "### Restart Kernel (If Installs Occured)\n",
    "\n",
    "After a kernel restart the code submission can start with the next cell after this one."
   ]
  },
  {
   "cell_type": "code",
   "execution_count": null,
   "metadata": {
    "tags": []
   },
   "outputs": [],
   "source": [
    "if install:\n",
    "    import IPython\n",
    "    app = IPython.Application.instance()\n",
    "    app.kernel.do_shutdown(True)"
   ]
  },
  {
   "cell_type": "markdown",
   "metadata": {},
   "source": [
    "## Set constants"
   ]
  },
  {
   "cell_type": "code",
   "execution_count": 2,
   "metadata": {
    "tags": []
   },
   "outputs": [
    {
     "data": {
      "text/plain": [
       "'demos-vertex-ai-fruit-veg-image-classification'"
      ]
     },
     "execution_count": 2,
     "metadata": {},
     "output_type": "execute_result"
    }
   ],
   "source": [
    "project = !gcloud config get-value project\n",
    "PROJECT_ID = project[0]\n",
    "PROJECT_ID\n",
    "\n",
    "LOCATION = \"us-central1\"  \n",
    "\n",
    "BUCKET_NAME = PROJECT_ID + \"-\" + \"fruit-veg-image-classification\"\n",
    "BUCKET_NAME"
   ]
  },
  {
   "cell_type": "markdown",
   "metadata": {},
   "source": [
    "### Set user_flag for testing vs production\n",
    "\n",
    "Test will generated 1000 images and prod will generated 100k images and incur roughly 2k$ spend."
   ]
  },
  {
   "cell_type": "code",
   "execution_count": 3,
   "metadata": {
    "tags": []
   },
   "outputs": [
    {
     "name": "stdout",
     "output_type": "stream",
     "text": [
      "================================================================================\n",
      "User flag set to: test\n",
      "================================================================================\n"
     ]
    }
   ],
   "source": [
    "## TODO - SET USER FLAG (either 'test' or 'prod') #############################\n",
    "user_flag = 'test'\n",
    "\n",
    "# Basic input validation\n",
    "if user_flag not in ['test', 'prod']:\n",
    "    raise ValueError(\"Invalid input. Please enter either 'test' or 'prod'.\")\n",
    "\n",
    "print(\"=\" * 80)\n",
    "print(f\"User flag set to: {user_flag}\")\n",
    "print(\"=\" * 80)"
   ]
  },
  {
   "cell_type": "markdown",
   "metadata": {},
   "source": [
    "## Packages"
   ]
  },
  {
   "cell_type": "code",
   "execution_count": 4,
   "metadata": {
    "tags": []
   },
   "outputs": [],
   "source": [
    "import vertexai\n",
    "from vertexai.preview.vision_models import ImageGenerationModel\n",
    "\n",
    "from google.cloud import storage\n",
    "from google.cloud.exceptions import NotFound\n",
    "import random\n",
    "\n",
    "from datetime import datetime\n",
    "import time\n",
    "import timeit \n",
    "from io import BytesIO\n",
    "from PIL import Image\n",
    "\n",
    "from concurrent.futures import ThreadPoolExecutor\n",
    "import threading\n",
    "from tenacity import retry, stop_after_attempt, wait_exponential, retry_if_exception_type\n",
    "from google.api_core.exceptions import GoogleAPIError"
   ]
  },
  {
   "cell_type": "markdown",
   "metadata": {},
   "source": [
    "## Enable APIs"
   ]
  },
  {
   "cell_type": "code",
   "execution_count": 5,
   "metadata": {
    "tags": []
   },
   "outputs": [
    {
     "name": "stdout",
     "output_type": "stream",
     "text": [
      "storage.googleapis.com is already enabled.\n",
      "aiplatform.googleapis.com is already enabled.\n"
     ]
    }
   ],
   "source": [
    "%%bash\n",
    "# 1. Get the list of CURRENTLY ENABLED services\n",
    "enabled_services=$(gcloud services list --enabled | awk '{print $1}')\n",
    "\n",
    "# 2. Services we WANT to ensure are enabled\n",
    "services_to_enable=(\"storage.googleapis.com\" \"aiplatform.googleapis.com\")\n",
    "\n",
    "# 3. Check each desired service against the enabled list\n",
    "for service in \"${services_to_enable[@]}\"; do\n",
    "    if ! echo \"$enabled_services\" | grep -q \"$service\"; then\n",
    "        echo \"Enabling $service...\"\n",
    "        gcloud services enable \"$service\"\n",
    "    else\n",
    "        echo \"$service is already enabled.\"\n",
    "    fi\n",
    "done"
   ]
  },
  {
   "cell_type": "markdown",
   "metadata": {},
   "source": [
    "## clients"
   ]
  },
  {
   "cell_type": "code",
   "execution_count": 6,
   "metadata": {
    "tags": []
   },
   "outputs": [],
   "source": [
    "#  Vertex AI Client \n",
    "vertexai.init(project=PROJECT_ID, location=LOCATION)\n",
    "generation_model = ImageGenerationModel.from_pretrained(\"imagegeneration@006\")\n",
    "\n",
    "#  Google Cloud Storage client\n",
    "gcs = storage.Client(project=PROJECT_ID)"
   ]
  },
  {
   "cell_type": "markdown",
   "metadata": {
    "vscode": {
     "languageId": "plaintext"
    }
   },
   "source": [
    "## Create Storage Bucket"
   ]
  },
  {
   "cell_type": "code",
   "execution_count": 7,
   "metadata": {
    "tags": []
   },
   "outputs": [],
   "source": [
    "def check_and_create_bucket(bucket_name, location):\n",
    "    try:\n",
    "        gcs.get_bucket(bucket_name)\n",
    "        print(f\"Bucket {bucket_name} already exists.\")\n",
    "    except NotFound:\n",
    "        bucket = gcs.create_bucket(bucket_or_name=bucket_name, location=location)\n",
    "        print(f\"Bucket {bucket_name} created.\")"
   ]
  },
  {
   "cell_type": "markdown",
   "metadata": {},
   "source": [
    "Create storage bucket if needed \n",
    "\n",
    "* First run - uncomment the cell  and run it  \n",
    "* Second or great run - comment the cell out to ensure bucket contents are not overwritten"
   ]
  },
  {
   "cell_type": "code",
   "execution_count": 8,
   "metadata": {
    "tags": []
   },
   "outputs": [
    {
     "name": "stdout",
     "output_type": "stream",
     "text": [
      "Bucket demos-vertex-ai-fruit-veg-image-classification already exists.\n"
     ]
    }
   ],
   "source": [
    "check_and_create_bucket(BUCKET_NAME, LOCATION)"
   ]
  },
  {
   "cell_type": "markdown",
   "metadata": {},
   "source": [
    "Finally, set the bucket we created using the client above for use in the image generation code."
   ]
  },
  {
   "cell_type": "code",
   "execution_count": 9,
   "metadata": {
    "tags": []
   },
   "outputs": [],
   "source": [
    "bucket = gcs.bucket(BUCKET_NAME)"
   ]
  },
  {
   "cell_type": "markdown",
   "metadata": {},
   "source": [
    "## Functions to generate images "
   ]
  },
  {
   "cell_type": "code",
   "execution_count": 34,
   "metadata": {
    "tags": []
   },
   "outputs": [
    {
     "name": "stdout",
     "output_type": "stream",
     "text": [
      "================================================================================\n",
      "Ready to generate 100 images\n",
      "Estimated cost: $2.0\n",
      "================================================================================\n"
     ]
    }
   ],
   "source": [
    "background = [\"white\", \"cookie sheet\", \"cutting board\"]\n",
    "objects = [\"bellpepper_ripe\", \"apple_ripe\", \"banana_ripe\", \"bellpepper_rotten\", \"apple_rotten\", \"banana_rotten\"]\n",
    "images_per_prompt = 1\n",
    "if user_flag == 'test':\n",
    "    num_prompts = 100\n",
    "elif user_flag == 'prod':\n",
    "    num_prompts = 100000\n",
    "\n",
    "print(\"=\" * 80)\n",
    "print(f\"Ready to generate {num_prompts} images\")\n",
    "print(f\"Estimated cost: ${num_prompts*.02}\")\n",
    "print(\"=\" * 80)"
   ]
  },
  {
   "cell_type": "code",
   "execution_count": 35,
   "metadata": {
    "tags": []
   },
   "outputs": [],
   "source": [
    "image_counter = 1  \n",
    "counter_lock = threading.Lock() \n",
    "\n",
    "\n",
    "@retry(stop=stop_after_attempt(3), wait=wait_exponential(multiplier=1, min=4, max=10), retry=retry_if_exception_type(GoogleAPIError))\n",
    "def upload_to_gcs(img_byte_arr, blob_name):\n",
    "    blob = bucket.blob(blob_name)\n",
    "    blob.upload_from_file(img_byte_arr, content_type=\"image/jpeg\")\n",
    "\n",
    "\n",
    "def generate_and_upload_image(chosen_background, chosen_object, prompt, num_prompts):\n",
    "    global image_counter\n",
    "\n",
    "    response = generation_model.generate_images(prompt=prompt, number_of_images=images_per_prompt)\n",
    "\n",
    "    if response and response.images:\n",
    "        for i, image_data in enumerate(response.images):\n",
    "            pil_image = Image.open(BytesIO(image_data._image_bytes))\n",
    "            timestamp = datetime.now().strftime(\"%Y%m%d%H%M%S\")\n",
    "            blob_name = f\"{chosen_object}_{chosen_background}_{random.randint(10000, 99999)}_{timestamp}.jpg\".replace(' ', '_')\n",
    "\n",
    "            img_byte_arr = BytesIO()\n",
    "            pil_image.save(img_byte_arr, format=\"JPEG\")\n",
    "            img_byte_arr.seek(0)\n",
    "            try:\n",
    "                upload_to_gcs(img_byte_arr, blob_name)\n",
    "                with counter_lock:\n",
    "                    print(f\"Image {image_counter} of {num_prompts}: '{blob_name}' uploaded to GCS.\")\n",
    "                    image_counter += 1\n",
    "            except Exception as e:  \n",
    "                print(f\"Error processing image: {e}\")"
   ]
  },
  {
   "cell_type": "code",
   "execution_count": 36,
   "metadata": {
    "tags": []
   },
   "outputs": [],
   "source": [
    "def main():\n",
    "    with ThreadPoolExecutor(max_workers=5) as executor:\n",
    "        for _ in range(num_prompts):\n",
    "            chosen_background = random.choice(background)\n",
    "            chosen_object = random.choice(objects)\n",
    "            \n",
    "            chosen_object_food = chosen_object.split(\"_\")[0]\n",
    "            chosen_object_quality = chosen_object.split(\"_\")[1]\n",
    "            prompt = f\"Draw an image of {chosen_object_food} that is {chosen_object_quality} and on a {chosen_background} and photorealistic photography\" \n",
    "\n",
    "            executor.submit(generate_and_upload_image, chosen_background, chosen_object, prompt, num_prompts)  "
   ]
  },
  {
   "cell_type": "markdown",
   "metadata": {},
   "source": [
    "## Run Image Generation\n",
    "\n",
    "The next cell executes the image generation and will be a long running operation.\n",
    "\n",
    "Leave this notebook open and do not close it to ensure the job completes.\n",
    "\n",
    "Re-run the cell below if the job stops due to unforeseen error(s).\n",
    "\n",
    "If for some reason the cell below does not re-run successfuly, go to the top navigation bar of the workbench instnace and click: \"Kernel > Restart Kernel & clear all outputs\" then re-run the code in this notebook."
   ]
  },
  {
   "cell_type": "code",
   "execution_count": 37,
   "metadata": {
    "tags": []
   },
   "outputs": [
    {
     "name": "stdout",
     "output_type": "stream",
     "text": [
      "Started image generation job at:  15:38:53\n",
      "Generating 100 total images\n",
      "Image 1 of 100: 'bellpepper_rotten_cookie_sheet_98794_20240910153859.jpg' uploaded to GCS.\n",
      "Image 2 of 100: 'apple_ripe_cookie_sheet_59354_20240910153859.jpg' uploaded to GCS.\n",
      "Image 3 of 100: 'apple_rotten_cutting_board_77547_20240910153859.jpg' uploaded to GCS.\n",
      "Image 4 of 100: 'banana_rotten_cutting_board_77240_20240910153859.jpg' uploaded to GCS.\n",
      "Image 5 of 100: 'apple_rotten_cookie_sheet_29039_20240910153905.jpg' uploaded to GCS.\n",
      "Image 6 of 100: 'apple_ripe_cookie_sheet_92381_20240910153906.jpg' uploaded to GCS.\n",
      "Image 7 of 100: 'bellpepper_ripe_cutting_board_30582_20240910153906.jpg' uploaded to GCS.\n",
      "Image 8 of 100: 'apple_rotten_cookie_sheet_38418_20240910153906.jpg' uploaded to GCS.\n",
      "Image 9 of 100: 'banana_ripe_cookie_sheet_18844_20240910153906.jpg' uploaded to GCS.\n",
      "Image 10 of 100: 'bellpepper_ripe_cookie_sheet_76737_20240910153912.jpg' uploaded to GCS.\n",
      "Image 11 of 100: 'bellpepper_rotten_white_72782_20240910153913.jpg' uploaded to GCS.\n",
      "Image 12 of 100: 'bellpepper_rotten_cutting_board_91755_20240910153913.jpg' uploaded to GCS.\n",
      "Image 13 of 100: 'banana_ripe_white_63080_20240910153913.jpg' uploaded to GCS.\n",
      "Image 14 of 100: 'banana_rotten_white_63963_20240910153913.jpg' uploaded to GCS.\n",
      "Image 15 of 100: 'bellpepper_ripe_cookie_sheet_54437_20240910153920.jpg' uploaded to GCS.\n",
      "Image 16 of 100: 'apple_ripe_cookie_sheet_10655_20240910153920.jpg' uploaded to GCS.\n",
      "Image 17 of 100: 'banana_ripe_white_23668_20240910153920.jpg' uploaded to GCS.\n",
      "Image 18 of 100: 'bellpepper_rotten_white_43918_20240910153920.jpg' uploaded to GCS.\n",
      "Image 19 of 100: 'bellpepper_rotten_cutting_board_19728_20240910153920.jpg' uploaded to GCS.\n",
      "Image 20 of 100: 'bellpepper_ripe_cookie_sheet_66310_20240910153926.jpg' uploaded to GCS.\n",
      "Image 21 of 100: 'apple_rotten_white_35126_20240910153927.jpg' uploaded to GCS.\n",
      "Image 22 of 100: 'bellpepper_ripe_cookie_sheet_87987_20240910153927.jpg' uploaded to GCS.\n",
      "Image 23 of 100: 'bellpepper_rotten_white_98367_20240910153927.jpg' uploaded to GCS.\n",
      "Image 24 of 100: 'apple_rotten_cutting_board_18116_20240910153928.jpg' uploaded to GCS.\n",
      "Image 25 of 100: 'banana_ripe_cookie_sheet_99437_20240910153933.jpg' uploaded to GCS.\n",
      "Image 26 of 100: 'bellpepper_rotten_cutting_board_94922_20240910153933.jpg' uploaded to GCS.\n",
      "Image 27 of 100: 'bellpepper_ripe_white_47018_20240910153934.jpg' uploaded to GCS.\n",
      "Image 28 of 100: 'bellpepper_ripe_white_96700_20240910153934.jpg' uploaded to GCS.\n",
      "Image 29 of 100: 'bellpepper_ripe_cutting_board_70689_20240910153934.jpg' uploaded to GCS.\n",
      "Image 30 of 100: 'apple_ripe_cutting_board_70368_20240910153940.jpg' uploaded to GCS.\n",
      "Image 31 of 100: 'banana_rotten_cookie_sheet_68937_20240910153940.jpg' uploaded to GCS.\n",
      "Image 32 of 100: 'apple_rotten_white_82616_20240910153941.jpg' uploaded to GCS.\n",
      "Image 33 of 100: 'banana_rotten_cookie_sheet_51934_20240910153941.jpg' uploaded to GCS.\n",
      "Image 34 of 100: 'banana_rotten_white_10009_20240910153941.jpg' uploaded to GCS.\n",
      "Image 35 of 100: 'apple_ripe_cookie_sheet_70379_20240910153946.jpg' uploaded to GCS.\n",
      "Image 36 of 100: 'bellpepper_rotten_cookie_sheet_87401_20240910153947.jpg' uploaded to GCS.\n",
      "Image 37 of 100: 'apple_ripe_white_46596_20240910153947.jpg' uploaded to GCS.\n",
      "Image 38 of 100: 'apple_ripe_white_40499_20240910153948.jpg' uploaded to GCS.\n",
      "Image 39 of 100: 'bellpepper_ripe_cookie_sheet_99872_20240910153948.jpg' uploaded to GCS.\n",
      "Image 40 of 100: 'apple_ripe_cutting_board_49491_20240910153953.jpg' uploaded to GCS.\n",
      "Image 41 of 100: 'apple_rotten_cutting_board_54723_20240910153954.jpg' uploaded to GCS.\n",
      "Image 42 of 100: 'banana_ripe_cutting_board_86676_20240910153954.jpg' uploaded to GCS.\n",
      "Image 43 of 100: 'bellpepper_ripe_cutting_board_77194_20240910153954.jpg' uploaded to GCS.\n",
      "Image 44 of 100: 'bellpepper_rotten_white_27906_20240910153955.jpg' uploaded to GCS.\n",
      "Image 45 of 100: 'banana_rotten_cookie_sheet_93342_20240910154000.jpg' uploaded to GCS.\n",
      "Image 46 of 100: 'banana_ripe_cutting_board_23490_20240910154001.jpg' uploaded to GCS.\n",
      "Image 47 of 100: 'bellpepper_rotten_white_24504_20240910154001.jpg' uploaded to GCS.\n",
      "Image 48 of 100: 'apple_rotten_cutting_board_57918_20240910154002.jpg' uploaded to GCS.\n",
      "Image 49 of 100: 'bellpepper_rotten_cookie_sheet_50628_20240910154002.jpg' uploaded to GCS.\n",
      "Image 50 of 100: 'bellpepper_ripe_cookie_sheet_92910_20240910154007.jpg' uploaded to GCS.\n",
      "Image 51 of 100: 'apple_rotten_cutting_board_72846_20240910154008.jpg' uploaded to GCS.\n",
      "Image 52 of 100: 'banana_rotten_cutting_board_45078_20240910154008.jpg' uploaded to GCS.\n",
      "Image 53 of 100: 'apple_rotten_cookie_sheet_59991_20240910154009.jpg' uploaded to GCS.\n",
      "Image 54 of 100: 'apple_ripe_white_45742_20240910154009.jpg' uploaded to GCS.\n",
      "Image 55 of 100: 'banana_rotten_white_73669_20240910154014.jpg' uploaded to GCS.\n",
      "Image 56 of 100: 'bellpepper_ripe_cutting_board_71411_20240910154014.jpg' uploaded to GCS.\n",
      "Image 57 of 100: 'apple_rotten_cutting_board_15505_20240910154015.jpg' uploaded to GCS.\n",
      "Image 58 of 100: 'banana_rotten_cutting_board_93610_20240910154016.jpg' uploaded to GCS.\n",
      "Image 59 of 100: 'bellpepper_rotten_cutting_board_39840_20240910154016.jpg' uploaded to GCS.\n",
      "Image 60 of 100: 'bellpepper_ripe_cutting_board_73118_20240910154021.jpg' uploaded to GCS.\n",
      "Image 61 of 100: 'bellpepper_ripe_white_44528_20240910154022.jpg' uploaded to GCS.\n",
      "Image 62 of 100: 'apple_rotten_cookie_sheet_13243_20240910154022.jpg' uploaded to GCS.\n",
      "Image 63 of 100: 'banana_rotten_white_60869_20240910154023.jpg' uploaded to GCS.\n",
      "Image 64 of 100: 'apple_ripe_cookie_sheet_80489_20240910154023.jpg' uploaded to GCS.\n",
      "Image 65 of 100: 'banana_ripe_white_54946_20240910154029.jpg' uploaded to GCS.\n",
      "Image 66 of 100: 'banana_rotten_cookie_sheet_24568_20240910154029.jpg' uploaded to GCS.\n",
      "Image 67 of 100: 'apple_rotten_white_12693_20240910154030.jpg' uploaded to GCS.\n",
      "Image 68 of 100: 'banana_rotten_cutting_board_62421_20240910154030.jpg' uploaded to GCS.\n",
      "Image 69 of 100: 'banana_rotten_cutting_board_17399_20240910154031.jpg' uploaded to GCS.\n",
      "Image 70 of 100: 'banana_ripe_cutting_board_46601_20240910154036.jpg' uploaded to GCS.\n",
      "Image 71 of 100: 'banana_ripe_white_78942_20240910154036.jpg' uploaded to GCS.\n",
      "Image 72 of 100: 'bellpepper_rotten_cookie_sheet_14735_20240910154037.jpg' uploaded to GCS.\n",
      "Image 73 of 100: 'banana_rotten_cutting_board_17351_20240910154037.jpg' uploaded to GCS.\n",
      "Image 74 of 100: 'banana_ripe_white_67683_20240910154038.jpg' uploaded to GCS.\n",
      "Image 75 of 100: 'bellpepper_ripe_cutting_board_15999_20240910154043.jpg' uploaded to GCS.\n",
      "Image 76 of 100: 'apple_rotten_cookie_sheet_16631_20240910154043.jpg' uploaded to GCS.\n",
      "Image 77 of 100: 'banana_ripe_cutting_board_80875_20240910154044.jpg' uploaded to GCS.\n",
      "Image 78 of 100: 'apple_rotten_white_41896_20240910154044.jpg' uploaded to GCS.\n",
      "Image 79 of 100: 'bellpepper_ripe_white_18403_20240910154045.jpg' uploaded to GCS.\n",
      "Image 80 of 100: 'bellpepper_ripe_cutting_board_92112_20240910154049.jpg' uploaded to GCS.\n",
      "Image 81 of 100: 'apple_rotten_white_59152_20240910154050.jpg' uploaded to GCS.\n",
      "Image 82 of 100: 'bellpepper_rotten_white_45502_20240910154051.jpg' uploaded to GCS.\n",
      "Image 83 of 100: 'bellpepper_rotten_white_79172_20240910154051.jpg' uploaded to GCS.\n",
      "Image 84 of 100: 'banana_ripe_cutting_board_47074_20240910154052.jpg' uploaded to GCS.\n",
      "Image 85 of 100: 'banana_rotten_white_49311_20240910154055.jpg' uploaded to GCS.\n",
      "Image 86 of 100: 'banana_ripe_white_44830_20240910154057.jpg' uploaded to GCS.\n",
      "Image 87 of 100: 'apple_rotten_cookie_sheet_82657_20240910154057.jpg' uploaded to GCS.\n",
      "Image 88 of 100: 'bellpepper_rotten_white_63671_20240910154057.jpg' uploaded to GCS.\n",
      "Image 89 of 100: 'banana_ripe_cookie_sheet_97536_20240910154059.jpg' uploaded to GCS.\n",
      "Image 90 of 100: 'apple_rotten_cutting_board_84391_20240910154103.jpg' uploaded to GCS.\n",
      "Image 91 of 100: 'banana_rotten_cutting_board_79896_20240910154105.jpg' uploaded to GCS.\n",
      "Image 92 of 100: 'banana_rotten_white_54234_20240910154105.jpg' uploaded to GCS.\n",
      "Image 93 of 100: 'banana_rotten_cookie_sheet_40946_20240910154105.jpg' uploaded to GCS.\n",
      "Image 94 of 100: 'apple_ripe_cookie_sheet_45029_20240910154106.jpg' uploaded to GCS.\n",
      "Image 95 of 100: 'bellpepper_rotten_cutting_board_54137_20240910154111.jpg' uploaded to GCS.\n",
      "Image 96 of 100: 'apple_ripe_cutting_board_97052_20240910154112.jpg' uploaded to GCS.\n",
      "Image 97 of 100: 'apple_ripe_cookie_sheet_53289_20240910154112.jpg' uploaded to GCS.\n",
      "Image 98 of 100: 'banana_rotten_cutting_board_92704_20240910154112.jpg' uploaded to GCS.\n",
      "Image 99 of 100: 'apple_ripe_white_94058_20240910154113.jpg' uploaded to GCS.\n",
      "Completed image generation job at:  15:41:13\n",
      "Executed the function in 140.61 seconds\n"
     ]
    }
   ],
   "source": [
    "start_time = timeit.default_timer()\n",
    "print(\"Started image generation job at: \", \n",
    "      datetime.fromtimestamp(datetime.now().timestamp()).strftime(\"%H:%M:%S\"))\n",
    "print(f\"Generating {num_prompts} total images\")\n",
    "\n",
    "main()\n",
    "\n",
    "end_time = timeit.default_timer()\n",
    "print(\"Completed image generation job at: \", \n",
    "      datetime.fromtimestamp(datetime.now().timestamp()).strftime(\"%H:%M:%S\"))\n",
    "execution_time = end_time - start_time\n",
    "print(f\"Executed the function in {round(execution_time, 2)} seconds\")"
   ]
  },
  {
   "cell_type": "code",
   "execution_count": null,
   "metadata": {},
   "outputs": [],
   "source": []
  }
 ],
 "metadata": {
  "environment": {
   "kernel": "conda-base-py",
   "name": "workbench-notebooks.m124",
   "type": "gcloud",
   "uri": "us-docker.pkg.dev/deeplearning-platform-release/gcr.io/workbench-notebooks:m124"
  },
  "kernelspec": {
   "display_name": "Python 3 (ipykernel) (Local)",
   "language": "python",
   "name": "conda-base-py"
  },
  "language_info": {
   "codemirror_mode": {
    "name": "ipython",
    "version": 3
   },
   "file_extension": ".py",
   "mimetype": "text/x-python",
   "name": "python",
   "nbconvert_exporter": "python",
   "pygments_lexer": "ipython3",
   "version": "3.10.14"
  }
 },
 "nbformat": 4,
 "nbformat_minor": 4
}
