{
 "cells": [
  {
   "cell_type": "markdown",
   "metadata": {},
   "source": [
    "# 01 - Generate Images "
   ]
  },
  {
   "cell_type": "markdown",
   "metadata": {},
   "source": [
    "This notebook will generate 1,000 images from Vertex AI Imagen API and save them into a Google Cloud storage bucket.\n",
    "\n",
    "\n",
    "References:\n",
    "\n",
    "* [Generate images using text prompts  |  Generative AI on Vertex AI  |  Google Cloud](https://cloud.google.com/vertex-ai/generative-ai/docs/image/generate-images)\n",
    "* [Imagen API  |  Generative AI on Vertex AI  |  Google Cloud](https://cloud.google.com/vertex-ai/generative-ai/docs/model-reference/imagen-api)\n",
    "\n",
    "by: Justin Marciszewski | justinjm@google.com | AI/ML Specialist CE"
   ]
  },
  {
   "cell_type": "markdown",
   "metadata": {},
   "source": [
    "## Pre-requisites \n",
    "\n",
    "See [README.md](README.md) for full details \n",
    "\n",
    "1. Setup Google Cloud project \n",
    "2. Create Vertex AI Workbench instance "
   ]
  },
  {
   "cell_type": "markdown",
   "metadata": {
    "vscode": {
     "languageId": "plaintext"
    }
   },
   "source": [
    "## Install required packages\n",
    "\n",
    "Run the cell below to check if required packages are installed.\n",
    "\n",
    "If any are not, they will be installed and kernel will automatically restart and show a notificaiton.\n",
    "\n",
    "If they are already installed, nothing will happen and proceed to the next step."
   ]
  },
  {
   "cell_type": "code",
   "execution_count": null,
   "metadata": {
    "tags": []
   },
   "outputs": [],
   "source": [
    "# tuples of (import name, install name)\n",
    "packages = [\n",
    "    ('google.cloud.aiplatform', 'google-cloud-aiplatform'),\n",
    "    ('PIL', 'Pillow')\n",
    "]\n",
    "\n",
    "import importlib\n",
    "install = False\n",
    "for package in packages:\n",
    "    if not importlib.util.find_spec(package[0]):\n",
    "        print(f'installing package {package[1]}')\n",
    "        install = True\n",
    "        !pip install {package[1]} -U -q --user"
   ]
  },
  {
   "cell_type": "markdown",
   "metadata": {},
   "source": [
    "### Restart Kernel (If Installs Occured)\n",
    "\n",
    "After a kernel restart the code submission can start with the next cell after this one."
   ]
  },
  {
   "cell_type": "code",
   "execution_count": null,
   "metadata": {
    "tags": []
   },
   "outputs": [],
   "source": [
    "if install:\n",
    "    import IPython\n",
    "    app = IPython.Application.instance()\n",
    "    app.kernel.do_shutdown(True)"
   ]
  },
  {
   "cell_type": "markdown",
   "metadata": {},
   "source": [
    "## Set constants"
   ]
  },
  {
   "cell_type": "code",
   "execution_count": null,
   "metadata": {
    "tags": []
   },
   "outputs": [],
   "source": [
    "project = !gcloud config get-value project\n",
    "PROJECT_ID = project[0]\n",
    "PROJECT_ID\n",
    "\n",
    "LOCATION = \"us-central1\"  \n",
    "\n",
    "BUCKET_NAME = PROJECT_ID + \"-\" + \"fruit-veg-image-model\"\n",
    "BUCKET_NAME"
   ]
  },
  {
   "cell_type": "markdown",
   "metadata": {},
   "source": [
    "### Set user_flag for testing vs production\n",
    "\n",
    "Test will generate 100 images and incur roughly 2$ spend.\n",
    "\n",
    "Prod will generated 1000 images and incur roughly 20$ spend."
   ]
  },
  {
   "cell_type": "code",
   "execution_count": null,
   "metadata": {
    "tags": []
   },
   "outputs": [],
   "source": [
    "## TODO - SET USER FLAG (either 'test' or 'prod') #############################\n",
    "user_flag = 'test'\n",
    "\n",
    "# Basic input validation\n",
    "if user_flag not in ['test', 'prod']:\n",
    "    raise ValueError(\"Invalid input. Please enter either 'test' or 'prod'.\")\n",
    "\n",
    "print(\"=\" * 80)\n",
    "print(f\"User flag set to: {user_flag}\")\n",
    "print(\"=\" * 80)"
   ]
  },
  {
   "cell_type": "markdown",
   "metadata": {},
   "source": [
    "## Packages"
   ]
  },
  {
   "cell_type": "code",
   "execution_count": 4,
   "metadata": {
    "tags": []
   },
   "outputs": [],
   "source": [
    "import vertexai\n",
    "from vertexai.preview.vision_models import ImageGenerationModel\n",
    "\n",
    "from google.cloud import storage\n",
    "from google.cloud.exceptions import NotFound\n",
    "import random\n",
    "\n",
    "from datetime import datetime\n",
    "import time\n",
    "import timeit \n",
    "from io import BytesIO\n",
    "from PIL import Image\n",
    "\n",
    "from concurrent.futures import ThreadPoolExecutor\n",
    "import threading\n",
    "from tenacity import retry, stop_after_attempt, wait_exponential, retry_if_exception_type\n",
    "from google.api_core.exceptions import GoogleAPIError"
   ]
  },
  {
   "cell_type": "markdown",
   "metadata": {},
   "source": [
    "## Enable APIs"
   ]
  },
  {
   "cell_type": "code",
   "execution_count": null,
   "metadata": {
    "tags": []
   },
   "outputs": [],
   "source": [
    "%%bash\n",
    "# 1. Get the list of CURRENTLY ENABLED services\n",
    "enabled_services=$(gcloud services list --enabled | awk '{print $1}')\n",
    "\n",
    "# 2. Services we WANT to ensure are enabled\n",
    "services_to_enable=(\"storage.googleapis.com\" \"aiplatform.googleapis.com\")\n",
    "\n",
    "# 3. Check each desired service against the enabled list\n",
    "for service in \"${services_to_enable[@]}\"; do\n",
    "    if ! echo \"$enabled_services\" | grep -q \"$service\"; then\n",
    "        echo \"Enabling $service...\"\n",
    "        gcloud services enable \"$service\"\n",
    "    else\n",
    "        echo \"$service is already enabled.\"\n",
    "    fi\n",
    "done"
   ]
  },
  {
   "cell_type": "markdown",
   "metadata": {},
   "source": [
    "## clients"
   ]
  },
  {
   "cell_type": "code",
   "execution_count": 6,
   "metadata": {
    "tags": []
   },
   "outputs": [],
   "source": [
    "#  Vertex AI Client \n",
    "vertexai.init(project=PROJECT_ID, location=LOCATION)\n",
    "generation_model = ImageGenerationModel.from_pretrained(\"imagegeneration@006\")\n",
    "\n",
    "#  Google Cloud Storage client\n",
    "gcs = storage.Client(project=PROJECT_ID)"
   ]
  },
  {
   "cell_type": "markdown",
   "metadata": {
    "vscode": {
     "languageId": "plaintext"
    }
   },
   "source": [
    "## Create Storage Bucket"
   ]
  },
  {
   "cell_type": "code",
   "execution_count": 7,
   "metadata": {
    "tags": []
   },
   "outputs": [],
   "source": [
    "def check_and_create_bucket(bucket_name, location):\n",
    "    try:\n",
    "        gcs.get_bucket(bucket_name)\n",
    "        print(f\"Bucket {bucket_name} already exists.\")\n",
    "    except NotFound:\n",
    "        bucket = gcs.create_bucket(bucket_or_name=bucket_name, location=location)\n",
    "        print(f\"Bucket {bucket_name} created.\")"
   ]
  },
  {
   "cell_type": "markdown",
   "metadata": {},
   "source": [
    "Create storage bucket if needed \n",
    "\n",
    "* First run - uncomment the cell  and run it  \n",
    "* Second or great run - comment the cell out to ensure bucket contents are not overwritten"
   ]
  },
  {
   "cell_type": "code",
   "execution_count": null,
   "metadata": {
    "tags": []
   },
   "outputs": [],
   "source": [
    "check_and_create_bucket(BUCKET_NAME, LOCATION)"
   ]
  },
  {
   "cell_type": "markdown",
   "metadata": {},
   "source": [
    "Finally, set the bucket we created using the client above for use in the image generation code."
   ]
  },
  {
   "cell_type": "code",
   "execution_count": 9,
   "metadata": {
    "tags": []
   },
   "outputs": [],
   "source": [
    "bucket = gcs.bucket(BUCKET_NAME)"
   ]
  },
  {
   "cell_type": "markdown",
   "metadata": {},
   "source": [
    "## Functions to generate images "
   ]
  },
  {
   "cell_type": "code",
   "execution_count": null,
   "metadata": {
    "tags": []
   },
   "outputs": [],
   "source": [
    "background = [\"white\", \"cookie sheet\", \"cutting board\"]\n",
    "objects = [\"bellpepper_ripe\", \"apple_ripe\", \"banana_ripe\", \"bellpepper_rotten\", \"apple_rotten\", \"banana_rotten\"]\n",
    "images_per_prompt = 1\n",
    "if user_flag == 'test':\n",
    "    num_prompts = 100\n",
    "elif user_flag == 'prod':\n",
    "    num_prompts = 1000\n",
    "\n",
    "print(\"=\" * 80)\n",
    "print(f\"Ready to generate {num_prompts} images\")\n",
    "print(f\"Estimated cost: ${num_prompts*.02}\")\n",
    "print(\"=\" * 80)"
   ]
  },
  {
   "cell_type": "code",
   "execution_count": 35,
   "metadata": {
    "tags": []
   },
   "outputs": [],
   "source": [
    "image_counter = 1  \n",
    "counter_lock = threading.Lock() \n",
    "\n",
    "\n",
    "@retry(stop=stop_after_attempt(3), wait=wait_exponential(multiplier=1, min=4, max=10), retry=retry_if_exception_type(GoogleAPIError))\n",
    "def upload_to_gcs(img_byte_arr, blob_name):\n",
    "    blob = bucket.blob(blob_name)\n",
    "    blob.upload_from_file(img_byte_arr, content_type=\"image/jpeg\")\n",
    "\n",
    "\n",
    "def generate_and_upload_image(chosen_background, chosen_object, prompt, num_prompts):\n",
    "    global image_counter\n",
    "\n",
    "    response = generation_model.generate_images(prompt=prompt, number_of_images=images_per_prompt)\n",
    "\n",
    "    if response and response.images:\n",
    "        for i, image_data in enumerate(response.images):\n",
    "            pil_image = Image.open(BytesIO(image_data._image_bytes))\n",
    "            timestamp = datetime.now().strftime(\"%Y%m%d%H%M%S\")\n",
    "            blob_name = f\"{chosen_object}_{chosen_background}_{random.randint(10000, 99999)}_{timestamp}.jpg\".replace(' ', '_')\n",
    "\n",
    "            img_byte_arr = BytesIO()\n",
    "            pil_image.save(img_byte_arr, format=\"JPEG\")\n",
    "            img_byte_arr.seek(0)\n",
    "            try:\n",
    "                upload_to_gcs(img_byte_arr, blob_name)\n",
    "                with counter_lock:\n",
    "                    print(f\"Image {image_counter} of {num_prompts}: '{blob_name}' uploaded to GCS.\")\n",
    "                    image_counter += 1\n",
    "            except Exception as e:  \n",
    "                print(f\"Error processing image: {e}\")"
   ]
  },
  {
   "cell_type": "code",
   "execution_count": 36,
   "metadata": {
    "tags": []
   },
   "outputs": [],
   "source": [
    "def main():\n",
    "    with ThreadPoolExecutor(max_workers=5) as executor:\n",
    "        for _ in range(num_prompts):\n",
    "            chosen_background = random.choice(background)\n",
    "            chosen_object = random.choice(objects)\n",
    "            \n",
    "            chosen_object_food = chosen_object.split(\"_\")[0]\n",
    "            chosen_object_quality = chosen_object.split(\"_\")[1]\n",
    "            prompt = f\"Draw an image of {chosen_object_food} that is {chosen_object_quality} and on a {chosen_background} and photorealistic photography\" \n",
    "\n",
    "            executor.submit(generate_and_upload_image, chosen_background, chosen_object, prompt, num_prompts)  "
   ]
  },
  {
   "cell_type": "markdown",
   "metadata": {},
   "source": [
    "## Run Image Generation\n",
    "\n",
    "The next cell executes the image generation and will be a long running operation.\n",
    "\n",
    "Leave this notebook open and do not close it to ensure the job completes.\n",
    "\n",
    "Re-run the cell below if the job stops due to unforeseen error(s).\n",
    "\n",
    "If for some reason the cell below does not re-run successfuly, go to the top navigation bar of the workbench instnace and click: \"Kernel > Restart Kernel & clear all outputs\" then re-run the code in this notebook."
   ]
  },
  {
   "cell_type": "code",
   "execution_count": null,
   "metadata": {
    "tags": []
   },
   "outputs": [],
   "source": [
    "start_time = timeit.default_timer()\n",
    "print(\"Started image generation job at: \", \n",
    "      datetime.fromtimestamp(datetime.now().timestamp()).strftime(\"%H:%M:%S\"))\n",
    "print(f\"Generating {num_prompts} total images\")\n",
    "\n",
    "main()\n",
    "\n",
    "end_time = timeit.default_timer()\n",
    "print(\"Completed image generation job at: \", \n",
    "      datetime.fromtimestamp(datetime.now().timestamp()).strftime(\"%H:%M:%S\"))\n",
    "execution_time = end_time - start_time\n",
    "print(f\"Executed the function in {round(execution_time, 2)} seconds\")"
   ]
  },
  {
   "cell_type": "code",
   "execution_count": null,
   "metadata": {},
   "outputs": [],
   "source": []
  }
 ],
 "metadata": {
  "environment": {
   "kernel": "conda-base-py",
   "name": "workbench-notebooks.m124",
   "type": "gcloud",
   "uri": "us-docker.pkg.dev/deeplearning-platform-release/gcr.io/workbench-notebooks:m124"
  },
  "kernelspec": {
   "display_name": "Python 3 (ipykernel) (Local)",
   "language": "python",
   "name": "conda-base-py"
  },
  "language_info": {
   "codemirror_mode": {
    "name": "ipython",
    "version": 3
   },
   "file_extension": ".py",
   "mimetype": "text/x-python",
   "name": "python",
   "nbconvert_exporter": "python",
   "pygments_lexer": "ipython3",
   "version": "3.10.14"
  }
 },
 "nbformat": 4,
 "nbformat_minor": 4
}
